{
 "cells": [
  {
   "cell_type": "markdown",
   "id": "982fbbae",
   "metadata": {
    "vscode": {
     "languageId": "plaintext"
    }
   },
   "source": [
    "# Simulate  Transaction data"
   ]
  },
  {
   "cell_type": "code",
   "execution_count": 14,
   "id": "c26fee04",
   "metadata": {},
   "outputs": [],
   "source": [
    "# Load necessary libraries\n",
    "import pandas as pd\n",
    "from mlxtend.frequent_patterns import apriori, association_rules\n",
    "\n",
    "# create 10 fake transactions\n",
    "# each transaction should have 2-5 items selected from a pool of at least 8 unique items\n",
    "data = [\n",
    "    ['Milk', 'Bread', 'Eggs','Butter'],\n",
    "    ['Bread', 'Butter', 'Cheese', 'Eggs', 'Milk'],\n",
    "    ['Milk', 'Eggs', 'Cheese'],\n",
    "    ['Bread', 'Cheese'],\n",
    "    ['Milk', 'Butter','Eggs'],\n",
    "    ['Eggs', 'Bread', 'Cheese'],\n",
    "    ['Cheese', 'Butter'],\n",
    "    ['Milk', 'Eggs','Cheese', 'Bread'],\n",
    "    ['Bread', 'Cheese', 'Butter'],\n",
    "    ['Milk', 'Eggs',]\n",
    "]"
   ]
  },
  {
   "cell_type": "markdown",
   "id": "912e8496",
   "metadata": {},
   "source": [
    "# Analyze with Apriori"
   ]
  },
  {
   "cell_type": "code",
   "execution_count": 15,
   "id": "5b0c0dc7",
   "metadata": {},
   "outputs": [
    {
     "name": "stdout",
     "output_type": "stream",
     "text": [
      "Frequent Itemsets:\n",
      "     support               itemsets\n",
      "0       0.6                (Bread)\n",
      "1       0.5               (Butter)\n",
      "2       0.7               (Cheese)\n",
      "3       0.7                 (Eggs)\n",
      "4       0.6                 (Milk)\n",
      "5       0.3        (Bread, Butter)\n",
      "6       0.5        (Bread, Cheese)\n",
      "7       0.4          (Eggs, Bread)\n",
      "8       0.3          (Milk, Bread)\n",
      "9       0.3       (Butter, Cheese)\n",
      "10      0.3         (Eggs, Butter)\n",
      "11      0.3         (Milk, Butter)\n",
      "12      0.4         (Eggs, Cheese)\n",
      "13      0.3         (Milk, Cheese)\n",
      "14      0.6           (Milk, Eggs)\n",
      "15      0.3  (Eggs, Bread, Cheese)\n",
      "16      0.3    (Milk, Eggs, Bread)\n",
      "17      0.3   (Milk, Eggs, Butter)\n",
      "18      0.3   (Milk, Eggs, Cheese)\n"
     ]
    }
   ],
   "source": [
    "# convert the data into a one-hot encoded format using pandas\n",
    "all_items= sorted(set(item for transaction in data for item in transaction))\n",
    "encoded_data= []\n",
    "\n",
    "for transaction in data:\n",
    "    encoded_data.append({item: (item in transaction) for item in all_items})\n",
    "df = pd.DataFrame(encoded_data)\n",
    "#use Apriori alogorithm to find frequent itemesets\n",
    "# set minimum support to 0.3(30%)\n",
    "frequent_itemsets = apriori(df, min_support=0.3, use_colnames=True)\n",
    "\n",
    "# display the frequent itemsets\n",
    "print(\"Frequent Itemsets:\\n\", frequent_itemsets)"
   ]
  },
  {
   "cell_type": "markdown",
   "id": "cfa5b1c4",
   "metadata": {},
   "source": [
    "# Generate Rules"
   ]
  },
  {
   "cell_type": "code",
   "execution_count": 19,
   "id": "15804fcc",
   "metadata": {},
   "outputs": [
    {
     "name": "stdout",
     "output_type": "stream",
     "text": [
      "\n",
      "Association Rules:\n",
      "        antecedents consequents  support  confidence  leverage\n",
      "0          (Bread)    (Cheese)      0.5    0.833333      0.08\n",
      "1         (Cheese)     (Bread)      0.5    0.714286      0.08\n",
      "2           (Milk)      (Eggs)      0.6    1.000000      0.18\n",
      "3           (Eggs)      (Milk)      0.6    0.857143      0.18\n",
      "4    (Eggs, Bread)    (Cheese)      0.3    0.750000      0.02\n",
      "5   (Eggs, Cheese)     (Bread)      0.3    0.750000      0.06\n",
      "6    (Milk, Bread)      (Eggs)      0.3    1.000000      0.09\n",
      "7    (Eggs, Bread)      (Milk)      0.3    0.750000      0.06\n",
      "8   (Milk, Butter)      (Eggs)      0.3    1.000000      0.09\n",
      "9   (Eggs, Butter)      (Milk)      0.3    1.000000      0.12\n",
      "10  (Milk, Cheese)      (Eggs)      0.3    1.000000      0.09\n",
      "11  (Eggs, Cheese)      (Milk)      0.3    0.750000      0.06\n"
     ]
    }
   ],
   "source": [
    "# generate association rules with a metric of confidence and a minimum threshold of 0.7\n",
    "rules = association_rules(frequent_itemsets, metric=\"confidence\", min_threshold=0.7)\n",
    "# show at least 2 rules and briefly explain what one rule means\n",
    "print(\"\\nAssociation Rules:\\n\", rules[['antecedents', 'consequents', 'support', 'confidence','leverage']])"
   ]
  }
 ],
 "metadata": {
  "kernelspec": {
   "display_name": "Python 3",
   "language": "python",
   "name": "python3"
  },
  "language_info": {
   "codemirror_mode": {
    "name": "ipython",
    "version": 3
   },
   "file_extension": ".py",
   "mimetype": "text/x-python",
   "name": "python",
   "nbconvert_exporter": "python",
   "pygments_lexer": "ipython3",
   "version": "3.11.4"
  }
 },
 "nbformat": 4,
 "nbformat_minor": 5
}
